{
 "cells": [
  {
   "cell_type": "code",
   "execution_count": 1,
   "metadata": {},
   "outputs": [
    {
     "name": "stderr",
     "output_type": "stream",
     "text": [
      "Using TensorFlow backend.\n",
      "/usr/local/lib/python3.6/site-packages/tensorflow/python/framework/dtypes.py:526: FutureWarning: Passing (type, 1) or '1type' as a synonym of type is deprecated; in a future version of numpy, it will be understood as (type, (1,)) / '(1,)type'.\n",
      "  _np_qint8 = np.dtype([(\"qint8\", np.int8, 1)])\n",
      "/usr/local/lib/python3.6/site-packages/tensorflow/python/framework/dtypes.py:527: FutureWarning: Passing (type, 1) or '1type' as a synonym of type is deprecated; in a future version of numpy, it will be understood as (type, (1,)) / '(1,)type'.\n",
      "  _np_quint8 = np.dtype([(\"quint8\", np.uint8, 1)])\n",
      "/usr/local/lib/python3.6/site-packages/tensorflow/python/framework/dtypes.py:528: FutureWarning: Passing (type, 1) or '1type' as a synonym of type is deprecated; in a future version of numpy, it will be understood as (type, (1,)) / '(1,)type'.\n",
      "  _np_qint16 = np.dtype([(\"qint16\", np.int16, 1)])\n",
      "/usr/local/lib/python3.6/site-packages/tensorflow/python/framework/dtypes.py:529: FutureWarning: Passing (type, 1) or '1type' as a synonym of type is deprecated; in a future version of numpy, it will be understood as (type, (1,)) / '(1,)type'.\n",
      "  _np_quint16 = np.dtype([(\"quint16\", np.uint16, 1)])\n",
      "/usr/local/lib/python3.6/site-packages/tensorflow/python/framework/dtypes.py:530: FutureWarning: Passing (type, 1) or '1type' as a synonym of type is deprecated; in a future version of numpy, it will be understood as (type, (1,)) / '(1,)type'.\n",
      "  _np_qint32 = np.dtype([(\"qint32\", np.int32, 1)])\n",
      "/usr/local/lib/python3.6/site-packages/tensorflow/python/framework/dtypes.py:535: FutureWarning: Passing (type, 1) or '1type' as a synonym of type is deprecated; in a future version of numpy, it will be understood as (type, (1,)) / '(1,)type'.\n",
      "  np_resource = np.dtype([(\"resource\", np.ubyte, 1)])\n",
      "/usr/local/lib/python3.6/site-packages/optuna/structs.py:18: FutureWarning: `structs` is deprecated. Classes have moved to the following modules. `structs.StudyDirection`->`study.StudyDirection`, `structs.StudySummary`->`study.StudySummary`, `structs.FrozenTrial`->`trial.FrozenTrial`, `structs.TrialState`->`trial.TrialState`, `structs.TrialPruned`->`exceptions.TrialPruned`.\n",
      "  warnings.warn(_message, FutureWarning)\n",
      "\u001b[32m[I 2021-04-19 23:50:55,436]\u001b[0m A new study created in memory with name: CatsAndDogs_Simple\u001b[0m\n"
     ]
    },
    {
     "name": "stdout",
     "output_type": "stream",
     "text": [
      "[name: \"/device:CPU:0\"\n",
      "device_type: \"CPU\"\n",
      "memory_limit: 268435456\n",
      "locality {\n",
      "}\n",
      "incarnation: 1577811403762172882\n",
      ", name: \"/device:XLA_CPU:0\"\n",
      "device_type: \"XLA_CPU\"\n",
      "memory_limit: 17179869184\n",
      "locality {\n",
      "}\n",
      "incarnation: 9409017793704300359\n",
      "physical_device_desc: \"device: XLA_CPU device\"\n",
      "]\n",
      "[2021-04-19 23:50:55.438216] [OptKeras] Ready for optimization. (message printed as verbose is set to 1+)\n",
      "WARNING:tensorflow:From /usr/local/lib/python3.6/site-packages/tensorflow/python/framework/op_def_library.py:263: colocate_with (from tensorflow.python.framework.ops) is deprecated and will be removed in a future version.\n",
      "Instructions for updating:\n",
      "Colocations handled automatically by placer.\n",
      "WARNING:tensorflow:From /usr/local/lib/python3.6/site-packages/tensorflow/python/ops/math_ops.py:3066: to_int32 (from tensorflow.python.ops.math_ops) is deprecated and will be removed in a future version.\n",
      "Instructions for updating:\n",
      "Use tf.cast instead.\n"
     ]
    },
    {
     "name": "stderr",
     "output_type": "stream",
     "text": [
      "/usr/local/lib/python3.6/site-packages/ipykernel_launcher.py:106: UserWarning: Update your `Model` call to the Keras 2 API: `Model(inputs=Tensor(\"in..., outputs=Tensor(\"de...)`\n"
     ]
    },
    {
     "name": "stdout",
     "output_type": "stream",
     "text": [
      "Train on 42 samples, validate on 20 samples\n",
      "Epoch 1/1\n",
      "42/42 [==============================] - 9s 209ms/step - loss: 8.4782 - acc: 0.4524 - val_loss: 8.0590 - val_acc: 0.5000\n"
     ]
    },
    {
     "name": "stderr",
     "output_type": "stream",
     "text": [
      "\u001b[32m[I 2021-04-19 23:51:05,576]\u001b[0m Trial 0 finished with value: 0.0 and parameters: {'activation': 'linear', 'optimizer': 'rmsprop'}. Best is trial 0 with value: 0.0.\u001b[0m\n"
     ]
    },
    {
     "name": "stdout",
     "output_type": "stream",
     "text": [
      "Train on 42 samples, validate on 20 samples\n",
      "Epoch 1/1\n",
      "42/42 [==============================] - 9s 205ms/step - loss: 7.8484 - acc: 0.5000 - val_loss: 8.0590 - val_acc: 0.5000\n"
     ]
    },
    {
     "name": "stderr",
     "output_type": "stream",
     "text": [
      "\u001b[32m[I 2021-04-19 23:51:15,195]\u001b[0m Trial 1 finished with value: 0.0 and parameters: {'activation': 'relu', 'optimizer': 'SGD'}. Best is trial 0 with value: 0.0.\u001b[0m\n"
     ]
    },
    {
     "name": "stdout",
     "output_type": "stream",
     "text": [
      "Train on 42 samples, validate on 20 samples\n",
      "Epoch 1/1\n",
      "42/42 [==============================] - 9s 207ms/step - loss: 8.5844 - acc: 0.4524 - val_loss: 8.0590 - val_acc: 0.5000\n"
     ]
    },
    {
     "name": "stderr",
     "output_type": "stream",
     "text": [
      "\u001b[32m[I 2021-04-19 23:51:24,903]\u001b[0m Trial 2 finished with value: 0.0 and parameters: {'activation': 'linear', 'optimizer': 'Adam'}. Best is trial 0 with value: 0.0.\u001b[0m\n"
     ]
    },
    {
     "name": "stdout",
     "output_type": "stream",
     "text": [
      "Train on 42 samples, validate on 20 samples\n",
      "Epoch 1/1\n",
      "42/42 [==============================] - 9s 204ms/step - loss: 7.5376 - acc: 0.5238 - val_loss: 8.0590 - val_acc: 0.5000\n"
     ]
    },
    {
     "name": "stderr",
     "output_type": "stream",
     "text": [
      "\u001b[32m[I 2021-04-19 23:51:34,374]\u001b[0m Trial 3 finished with value: 0.0 and parameters: {'activation': 'linear', 'optimizer': 'SGD'}. Best is trial 0 with value: 0.0.\u001b[0m\n"
     ]
    },
    {
     "name": "stdout",
     "output_type": "stream",
     "text": [
      "Train on 42 samples, validate on 20 samples\n",
      "Epoch 1/1\n",
      "42/42 [==============================] - 9s 210ms/step - loss: 2.8476 - acc: 0.7143 - val_loss: 1.8423 - val_acc: 0.8000\n"
     ]
    },
    {
     "name": "stderr",
     "output_type": "stream",
     "text": [
      "\u001b[32m[I 2021-04-19 23:51:44,213]\u001b[0m Trial 4 finished with value: 0.0 and parameters: {'activation': 'relu', 'optimizer': 'rmsprop'}. Best is trial 0 with value: 0.0.\u001b[0m\n"
     ]
    },
    {
     "name": "stdout",
     "output_type": "stream",
     "text": [
      "Train on 42 samples, validate on 20 samples\n",
      "Epoch 1/1\n",
      "42/42 [==============================] - 9s 209ms/step - loss: 8.0591 - acc: 0.5000 - val_loss: 8.0590 - val_acc: 0.5000\n"
     ]
    },
    {
     "name": "stderr",
     "output_type": "stream",
     "text": [
      "\u001b[32m[I 2021-04-19 23:51:53,950]\u001b[0m Trial 5 finished with value: 0.0 and parameters: {'activation': 'linear', 'optimizer': 'rmsprop'}. Best is trial 0 with value: 0.0.\u001b[0m\n"
     ]
    },
    {
     "name": "stdout",
     "output_type": "stream",
     "text": [
      "[2021-04-19 23:51:53.977535] Trial#: 5, value: 0.000000e+00| Best trial#: 0, value: 0.000000e+00, params: {'activation': 'linear', 'optimizer': 'rmsprop'}\n"
     ]
    }
   ],
   "source": [
    "from sklearn.model_selection import train_test_split\n",
    "def create_data_split(input_images):\n",
    "    cat = []\n",
    "    dog = []\n",
    "    for i in range(len(input_images)):\n",
    "        if 'resized_Cat' in input_images[i]:\n",
    "            cat.append(input_images[i])\n",
    "        else:\n",
    "            dog.append(input_images[i]) \n",
    "\n",
    "    train_cat, test_cat = train_test_split(cat, test_size=0.2, random_state=42, shuffle=True)\n",
    "    train_dog, test_dog = train_test_split(dog, test_size=0.2, random_state=42, shuffle=True)\n",
    "\n",
    "    training_cat, val_cat = train_test_split(train_cat, test_size=0.1, random_state=42, shuffle=True)\n",
    "    training_dog, val_dog = train_test_split(train_dog, test_size=0.1, random_state=42, shuffle=True)\n",
    "\n",
    "    training_data = training_cat + training_dog\n",
    "    testing_data = test_cat + test_dog\n",
    "    val_data = val_cat + val_dog\n",
    "\n",
    "    train_data = []\n",
    "    for f in training_data:\n",
    "        train_data.append(File(f))\n",
    "    test_data = []\n",
    "    for f in testing_data:\n",
    "        test_data.append(File(f))\n",
    "    validation_data = []\n",
    "    for f in val_data:\n",
    "        validation_data.append(File(f))\n",
    "\n",
    "    return train_data, test_data, validation_data\n",
    "\n",
    "def parallelize_jobs(WORKERS, job, data, job_type):\n",
    "    job_list = []\n",
    "    for i in range(WORKERS):\n",
    "        job_list.append(Job(job))\n",
    "\n",
    "    for i in range(len(data)):\n",
    "        curr = i % len(job_list)\n",
    "        job_list[curr].add_inputs(data[i])\n",
    "        if job_type == 'Augment':\n",
    "            output_files = [\"aug_{}_{}\".format(os.path.splitext(str(data[i]).split('_')[1])[0], str(k) + '.jpg') for k \n",
    "                            in range(3)]\n",
    "            for f in output_files:\n",
    "                job_list[curr].add_outputs(File(f))\n",
    "        \n",
    "        elif job_type == 'Resize':\n",
    "            output_file = File(\"resized_{}\".format(data[i].lfn))\n",
    "            job_list[curr].add_outputs(File(output_file))\n",
    "    return job_list\n",
    "    \n",
    "def rename_validation_data(val_data):\n",
    "    for image in val_data:\n",
    "        photo = load_img(image)\n",
    "        photo.save(replace_filename(imagee,'resized_Dog','Val'), 'JPEG', quality=90)\n",
    "    \n"
   ]
  },
  {
   "cell_type": "code",
   "execution_count": 8,
   "metadata": {},
   "outputs": [],
   "source": [
    "from numpy import save\n",
    "import numpy as np\n",
    "from keras.preprocessing.image import load_img\n",
    "from glob import glob\n",
    "\n",
    "def replace_filename(input, pattern, replaceWith): \n",
    "    return input.replace(pattern, replaceWith) \n",
    " \n",
    "def main():\n",
    "    input_files = glob('resized_*.jpg')\n",
    "    for image in input_files:\n",
    "        im = load_img(image)\n",
    "        im.save(replace_filename(image,'resized','val'), 'JPEG', quality=90)\n",
    "    \n",
    "if __name__ == 'main':\n",
    "    main()"
   ]
  },
  {
   "cell_type": "code",
   "execution_count": 14,
   "metadata": {},
   "outputs": [],
   "source": [
    "input_files = glob('resized_*.jpg')\n",
    "for image in input_files:\n",
    "    im = load_img(image)\n",
    "    im.save(replace_filename(image,'resized','val'), 'JPEG', quality=90)\n",
    "    "
   ]
  },
  {
   "cell_type": "code",
   "execution_count": 11,
   "metadata": {},
   "outputs": [
    {
     "data": {
      "text/plain": [
       "['resized_Cat0.jpg',\n",
       " 'resized_Cat1.jpg',\n",
       " 'resized_Cat2.jpg',\n",
       " 'resized_Cat3.jpg',\n",
       " 'resized_Cat4.jpg',\n",
       " 'resized_Cat5.jpg',\n",
       " 'resized_Cat6.jpg',\n",
       " 'resized_Cat7.jpg',\n",
       " 'resized_Cat8.jpg',\n",
       " 'resized_Cat9.jpg',\n",
       " 'resized_Dog0.jpg',\n",
       " 'resized_Dog1.jpg',\n",
       " 'resized_Dog2.jpg',\n",
       " 'resized_Dog3.jpg',\n",
       " 'resized_Dog4.jpg',\n",
       " 'resized_Dog5.jpg',\n",
       " 'resized_Dog6.jpg',\n",
       " 'resized_Dog7.jpg',\n",
       " 'resized_Dog8.jpg',\n",
       " 'resized_Dog9.jpg']"
      ]
     },
     "execution_count": 11,
     "metadata": {},
     "output_type": "execute_result"
    }
   ],
   "source": [
    "input_files"
   ]
  },
  {
   "cell_type": "code",
   "execution_count": null,
   "metadata": {},
   "outputs": [],
   "source": []
  }
 ],
 "metadata": {
  "kernelspec": {
   "display_name": "Python 3",
   "language": "python",
   "name": "python3"
  },
  "language_info": {
   "codemirror_mode": {
    "name": "ipython",
    "version": 3
   },
   "file_extension": ".py",
   "mimetype": "text/x-python",
   "name": "python",
   "nbconvert_exporter": "python",
   "pygments_lexer": "ipython3",
   "version": "3.6.8"
  }
 },
 "nbformat": 4,
 "nbformat_minor": 4
}
